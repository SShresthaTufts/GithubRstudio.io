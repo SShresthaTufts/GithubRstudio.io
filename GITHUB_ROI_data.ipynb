{
  "nbformat": 4,
  "nbformat_minor": 0,
  "metadata": {
    "colab": {
      "name": "GITHUB_ROI_data.ipynb",
      "provenance": [],
      "collapsed_sections": [],
      "authorship_tag": "ABX9TyM2Zqe7QzNfJZ85InZUx5JO",
      "include_colab_link": true
    },
    "kernelspec": {
      "name": "python3",
      "display_name": "Python 3"
    },
    "language_info": {
      "name": "python"
    }
  },
  "cells": [
    {
      "cell_type": "markdown",
      "metadata": {
        "id": "view-in-github",
        "colab_type": "text"
      },
      "source": [
        "<a href=\"https://colab.research.google.com/github/SShresthaTufts/GithubRstudio.io/blob/main/GITHUB_ROI_data.ipynb\" target=\"_parent\"><img src=\"https://colab.research.google.com/assets/colab-badge.svg\" alt=\"Open In Colab\"/></a>"
      ]
    },
    {
      "cell_type": "markdown",
      "metadata": {
        "id": "L2A5dBT7JcFj"
      },
      "source": [
        "This is a collab file that imports file from GitHub and merge it into a single file to put into the GitHub landing page."
      ]
    },
    {
      "cell_type": "code",
      "metadata": {
        "colab": {
          "base_uri": "https://localhost:8080/"
        },
        "id": "cgwBfn2sEj3W",
        "outputId": "865d037b-1679-4a43-862e-6901648e3bfb"
      },
      "source": [
        "pip install html2text"
      ],
      "execution_count": null,
      "outputs": [
        {
          "output_type": "stream",
          "name": "stdout",
          "text": [
            "Collecting html2text\n",
            "  Downloading html2text-2020.1.16-py3-none-any.whl (32 kB)\n",
            "Installing collected packages: html2text\n",
            "Successfully installed html2text-2020.1.16\n"
          ]
        }
      ]
    },
    {
      "cell_type": "code",
      "metadata": {
        "id": "RGapr9_3DUX2"
      },
      "source": [
        "import pandas as pd\n",
        "import matplotlib.pyplot as plt\n",
        "import seaborn as sns\n",
        "import numpy as np\n",
        "import html2text\n",
        "from urllib.request import urlopen\n",
        "from bs4 import BeautifulSoup"
      ],
      "execution_count": null,
      "outputs": []
    },
    {
      "cell_type": "markdown",
      "metadata": {
        "id": "nmPiOef8a4_s"
      },
      "source": [
        "The code below will access the ROI repository and collects link of all csv files stored."
      ]
    },
    {
      "cell_type": "code",
      "metadata": {
        "id": "P4rk-oZGOIJq"
      },
      "source": [
        "url = \"https://github.com/RuralOpioidInitiative/RuralOpioidInitiative/tree/ROI_base/data_final\"\n",
        "html = urlopen(url).read()\n",
        "soup = BeautifulSoup(html)\n",
        "\n",
        "C_href = []\n",
        "for link in soup.find_all('a'):\n",
        "  if (\"blob/ROI_base\" and \"_C\" ) in (link.get('href')):\n",
        "    C_href.append( \"https://raw.githubusercontent.com\" +link.get('href').replace(\"blob/\",\"\").replace(\"tree/\",\"\"))\n",
        "\n",
        "T_href = []\n",
        "for link in soup.find_all('a'):\n",
        "  if (\"blob/ROI_base\" and \"_T\" ) in (link.get('href')):\n",
        "    T_href.append( \"https://raw.githubusercontent.com\" +link.get('href').replace(\"blob/\",\"\").replace(\"tree/\",\"\"))\n",
        "\n",
        "Z_href = []\n",
        "for link in soup.find_all('a'):\n",
        "  if (\"blob/ROI_base\"and \"_Z\" ) in (link.get('href')):\n",
        "    Z_href.append( \"https://raw.githubusercontent.com\" +link.get('href').replace(\"blob/\",\"\").replace(\"tree/\",\"\"))"
      ],
      "execution_count": null,
      "outputs": []
    },
    {
      "cell_type": "markdown",
      "metadata": {
        "id": "5qW_I9TsVpaT"
      },
      "source": [
        "Below, you can call on the arrays to check the listof datasets currently in ROI repository"
      ]
    },
    {
      "cell_type": "code",
      "metadata": {
        "colab": {
          "base_uri": "https://localhost:8080/"
        },
        "id": "CVzxHZBBEsJD",
        "outputId": "6f24a3b7-2ae6-43fe-a4a0-572f7036cfdf"
      },
      "source": [
        "C_href"
      ],
      "execution_count": null,
      "outputs": [
        {
          "output_type": "execute_result",
          "data": {
            "text/plain": [
              "['https://raw.githubusercontent.com/RuralOpioidInitiative/RuralOpioidInitiative/ROI_base/data_final/Access01_C.csv',\n",
              " 'https://raw.githubusercontent.com/RuralOpioidInitiative/RuralOpioidInitiative/ROI_base/data_final/BE01_C.csv',\n",
              " 'https://raw.githubusercontent.com/RuralOpioidInitiative/RuralOpioidInitiative/ROI_base/data_final/BE02_RUCA_C.csv',\n",
              " 'https://raw.githubusercontent.com/RuralOpioidInitiative/RuralOpioidInitiative/ROI_base/data_final/BE03_C.csv',\n",
              " 'https://raw.githubusercontent.com/RuralOpioidInitiative/RuralOpioidInitiative/ROI_base/data_final/BE04_C.csv',\n",
              " 'https://raw.githubusercontent.com/RuralOpioidInitiative/RuralOpioidInitiative/ROI_base/data_final/BE05_C.csv',\n",
              " 'https://raw.githubusercontent.com/RuralOpioidInitiative/RuralOpioidInitiative/ROI_base/data_final/COVID01_C.csv',\n",
              " 'https://raw.githubusercontent.com/RuralOpioidInitiative/RuralOpioidInitiative/ROI_base/data_final/COVID02_C.csv',\n",
              " 'https://raw.githubusercontent.com/RuralOpioidInitiative/RuralOpioidInitiative/ROI_base/data_final/COVID03_C.csv',\n",
              " 'https://raw.githubusercontent.com/RuralOpioidInitiative/RuralOpioidInitiative/ROI_base/data_final/COVID04_C.csv',\n",
              " 'https://raw.githubusercontent.com/RuralOpioidInitiative/RuralOpioidInitiative/ROI_base/data_final/DS01_2018_C.csv',\n",
              " 'https://raw.githubusercontent.com/RuralOpioidInitiative/RuralOpioidInitiative/ROI_base/data_final/DS03_2018_C.csv',\n",
              " 'https://raw.githubusercontent.com/RuralOpioidInitiative/RuralOpioidInitiative/ROI_base/data_final/EC01_2018_C.csv',\n",
              " 'https://raw.githubusercontent.com/RuralOpioidInitiative/RuralOpioidInitiative/ROI_base/data_final/EC02_2018_C.csv',\n",
              " 'https://raw.githubusercontent.com/RuralOpioidInitiative/RuralOpioidInitiative/ROI_base/data_final/EC03_2018_C.csv',\n",
              " 'https://raw.githubusercontent.com/RuralOpioidInitiative/RuralOpioidInitiative/ROI_base/data_final/EC04_C.csv',\n",
              " 'https://raw.githubusercontent.com/RuralOpioidInitiative/RuralOpioidInitiative/ROI_base/data_final/FEA_CONVS16_C.csv',\n",
              " 'https://raw.githubusercontent.com/RuralOpioidInitiative/RuralOpioidInitiative/ROI_base/data_final/FEA_CONVSPTH16_C.csv',\n",
              " 'https://raw.githubusercontent.com/RuralOpioidInitiative/RuralOpioidInitiative/ROI_base/data_final/FEA_DIRSALES12_C.csv',\n",
              " 'https://raw.githubusercontent.com/RuralOpioidInitiative/RuralOpioidInitiative/ROI_base/data_final/FEA_DIRSALES_FARMS12_C.csv',\n",
              " 'https://raw.githubusercontent.com/RuralOpioidInitiative/RuralOpioidInitiative/ROI_base/data_final/FEA_FMRKT18_C.csv',\n",
              " 'https://raw.githubusercontent.com/RuralOpioidInitiative/RuralOpioidInitiative/ROI_base/data_final/FEA_FMRKTPTH18_C.csv',\n",
              " 'https://raw.githubusercontent.com/RuralOpioidInitiative/RuralOpioidInitiative/ROI_base/data_final/FEA_FRESHVEG_ACRES12_C.csv',\n",
              " 'https://raw.githubusercontent.com/RuralOpioidInitiative/RuralOpioidInitiative/ROI_base/data_final/FEA_FRESHVEG_ACRESPTH12_C.csv',\n",
              " 'https://raw.githubusercontent.com/RuralOpioidInitiative/RuralOpioidInitiative/ROI_base/data_final/FEA_FRESHVEG_FARMS12_C.csv',\n",
              " 'https://raw.githubusercontent.com/RuralOpioidInitiative/RuralOpioidInitiative/ROI_base/data_final/FEA_GROC16_C.csv',\n",
              " 'https://raw.githubusercontent.com/RuralOpioidInitiative/RuralOpioidInitiative/ROI_base/data_final/FEA_GROCPTH16_C.csv',\n",
              " 'https://raw.githubusercontent.com/RuralOpioidInitiative/RuralOpioidInitiative/ROI_base/data_final/FEA_LACCESS_POP15_C.csv',\n",
              " 'https://raw.githubusercontent.com/RuralOpioidInitiative/RuralOpioidInitiative/ROI_base/data_final/FEA_PCT_LACCESS_POP15_C.csv',\n",
              " 'https://raw.githubusercontent.com/RuralOpioidInitiative/RuralOpioidInitiative/ROI_base/data_final/FEA_SNAPS17_C.csv',\n",
              " 'https://raw.githubusercontent.com/RuralOpioidInitiative/RuralOpioidInitiative/ROI_base/data_final/FEA_SNAPSPTH17_C.csv',\n",
              " 'https://raw.githubusercontent.com/RuralOpioidInitiative/RuralOpioidInitiative/ROI_base/data_final/FEA_SPECS16_C.csv',\n",
              " 'https://raw.githubusercontent.com/RuralOpioidInitiative/RuralOpioidInitiative/ROI_base/data_final/FEA_SPECSPTH16_C.csv',\n",
              " 'https://raw.githubusercontent.com/RuralOpioidInitiative/RuralOpioidInitiative/ROI_base/data_final/FEA_SUPERC16_C.csv',\n",
              " 'https://raw.githubusercontent.com/RuralOpioidInitiative/RuralOpioidInitiative/ROI_base/data_final/FEA_SUPERCPTH16_C.csv',\n",
              " 'https://raw.githubusercontent.com/RuralOpioidInitiative/RuralOpioidInitiative/ROI_base/data_final/FEA_VEG_ACRES12_C.csv',\n",
              " 'https://raw.githubusercontent.com/RuralOpioidInitiative/RuralOpioidInitiative/ROI_base/data_final/FEA_VEG_ACRESPTH12_C.csv',\n",
              " 'https://raw.githubusercontent.com/RuralOpioidInitiative/RuralOpioidInitiative/ROI_base/data_final/FEA_VEG_FARMS12_C.csv',\n",
              " 'https://raw.githubusercontent.com/RuralOpioidInitiative/RuralOpioidInitiative/ROI_base/data_final/FEA_WICS16_C.csv',\n",
              " 'https://raw.githubusercontent.com/RuralOpioidInitiative/RuralOpioidInitiative/ROI_base/data_final/FEA_WICSPTH16_C.csv',\n",
              " 'https://raw.githubusercontent.com/RuralOpioidInitiative/RuralOpioidInitiative/ROI_base/data_final/Health01_C.csv',\n",
              " 'https://raw.githubusercontent.com/RuralOpioidInitiative/RuralOpioidInitiative/ROI_base/data_final/Health03_C.csv',\n",
              " 'https://raw.githubusercontent.com/RuralOpioidInitiative/RuralOpioidInitiative/ROI_base/data_final/HousesWorship_C.csv',\n",
              " 'https://raw.githubusercontent.com/RuralOpioidInitiative/RuralOpioidInitiative/ROI_base/data_final/NatForest_C.csv',\n",
              " 'https://raw.githubusercontent.com/RuralOpioidInitiative/RuralOpioidInitiative/ROI_base/data_final/PS01_2016_C.csv',\n",
              " 'https://raw.githubusercontent.com/RuralOpioidInitiative/RuralOpioidInitiative/ROI_base/data_final/PS02_2017_CX.csv',\n",
              " 'https://raw.githubusercontent.com/RuralOpioidInitiative/RuralOpioidInitiative/ROI_base/data_final/Within_5_Miles_of_Interstate_C.csv']"
            ]
          },
          "metadata": {},
          "execution_count": 4
        }
      ]
    },
    {
      "cell_type": "code",
      "metadata": {
        "id": "d0khCvpzEq46",
        "colab": {
          "base_uri": "https://localhost:8080/"
        },
        "outputId": "f2a76862-60de-41b6-fdf8-b0c300589c80"
      },
      "source": [
        "pip install geopandas"
      ],
      "execution_count": null,
      "outputs": [
        {
          "output_type": "stream",
          "name": "stdout",
          "text": [
            "Collecting geopandas\n",
            "  Downloading geopandas-0.10.2-py2.py3-none-any.whl (1.0 MB)\n",
            "\u001b[K     |████████████████████████████████| 1.0 MB 5.1 MB/s \n",
            "\u001b[?25hRequirement already satisfied: shapely>=1.6 in /usr/local/lib/python3.7/dist-packages (from geopandas) (1.7.1)\n",
            "Collecting pyproj>=2.2.0\n",
            "  Downloading pyproj-3.2.1-cp37-cp37m-manylinux2010_x86_64.whl (6.3 MB)\n",
            "\u001b[K     |████████████████████████████████| 6.3 MB 40.3 MB/s \n",
            "\u001b[?25hRequirement already satisfied: pandas>=0.25.0 in /usr/local/lib/python3.7/dist-packages (from geopandas) (1.1.5)\n",
            "Collecting fiona>=1.8\n",
            "  Downloading Fiona-1.8.20-cp37-cp37m-manylinux1_x86_64.whl (15.4 MB)\n",
            "\u001b[K     |████████████████████████████████| 15.4 MB 38 kB/s \n",
            "\u001b[?25hRequirement already satisfied: certifi in /usr/local/lib/python3.7/dist-packages (from fiona>=1.8->geopandas) (2021.5.30)\n",
            "Requirement already satisfied: click>=4.0 in /usr/local/lib/python3.7/dist-packages (from fiona>=1.8->geopandas) (7.1.2)\n",
            "Collecting munch\n",
            "  Downloading munch-2.5.0-py2.py3-none-any.whl (10 kB)\n",
            "Requirement already satisfied: setuptools in /usr/local/lib/python3.7/dist-packages (from fiona>=1.8->geopandas) (57.4.0)\n",
            "Collecting click-plugins>=1.0\n",
            "  Downloading click_plugins-1.1.1-py2.py3-none-any.whl (7.5 kB)\n",
            "Requirement already satisfied: attrs>=17 in /usr/local/lib/python3.7/dist-packages (from fiona>=1.8->geopandas) (21.2.0)\n",
            "Collecting cligj>=0.5\n",
            "  Downloading cligj-0.7.2-py3-none-any.whl (7.1 kB)\n",
            "Requirement already satisfied: six>=1.7 in /usr/local/lib/python3.7/dist-packages (from fiona>=1.8->geopandas) (1.15.0)\n",
            "Requirement already satisfied: pytz>=2017.2 in /usr/local/lib/python3.7/dist-packages (from pandas>=0.25.0->geopandas) (2018.9)\n",
            "Requirement already satisfied: python-dateutil>=2.7.3 in /usr/local/lib/python3.7/dist-packages (from pandas>=0.25.0->geopandas) (2.8.2)\n",
            "Requirement already satisfied: numpy>=1.15.4 in /usr/local/lib/python3.7/dist-packages (from pandas>=0.25.0->geopandas) (1.19.5)\n",
            "Installing collected packages: munch, cligj, click-plugins, pyproj, fiona, geopandas\n",
            "Successfully installed click-plugins-1.1.1 cligj-0.7.2 fiona-1.8.20 geopandas-0.10.2 munch-2.5.0 pyproj-3.2.1\n"
          ]
        }
      ]
    },
    {
      "cell_type": "code",
      "metadata": {
        "id": "P2qhyCnvlWDT"
      },
      "source": [
        "import folium\n",
        "import geopandas as gpd"
      ],
      "execution_count": null,
      "outputs": []
    },
    {
      "cell_type": "markdown",
      "metadata": {
        "id": "B_MYXVzSVx4n"
      },
      "source": [
        "Codes below download all the shapefiles at different units of analysis"
      ]
    },
    {
      "cell_type": "code",
      "metadata": {
        "id": "gX6RVWmXCyzg"
      },
      "source": [
        "\n",
        "shp_file_counties = gpd.read_file('/vsicurl/https://github.com/RuralOpioidInitiative/RuralOpioidInitiative/raw/ROI_base/data_final/geometryFiles/tl_2018_county/counties2018.shp')\n",
        "shp_file_ctract = gpd.read_file('/vsicurl/https://github.com/RuralOpioidInitiative/RuralOpioidInitiative/raw/ROI_base/data_final/geometryFiles/tl_2018_tract/tracts2018.shp')\n",
        "shp_file_zcta = gpd.read_file('/vsicurl/https://github.com/RuralOpioidInitiative/RuralOpioidInitiative/raw/ROI_base/data_final/geometryFiles/tl_2018_zcta/zctas2018.shp')"
      ],
      "execution_count": null,
      "outputs": []
    },
    {
      "cell_type": "code",
      "metadata": {
        "colab": {
          "base_uri": "https://localhost:8080/"
        },
        "id": "nVED5FStm8SG",
        "outputId": "4232d56a-5ca1-4da7-bf4f-ea416a9e24ec"
      },
      "source": [
        "T_href"
      ],
      "execution_count": null,
      "outputs": [
        {
          "output_type": "execute_result",
          "data": {
            "text/plain": [
              "['https://raw.githubusercontent.com/RuralOpioidInitiative/RuralOpioidInitiative/ROI_base/data_final/Access01_T.csv',\n",
              " 'https://raw.githubusercontent.com/RuralOpioidInitiative/RuralOpioidInitiative/ROI_base/data_final/Access02_T.csv',\n",
              " 'https://raw.githubusercontent.com/RuralOpioidInitiative/RuralOpioidInitiative/ROI_base/data_final/Access03_T.csv',\n",
              " 'https://raw.githubusercontent.com/RuralOpioidInitiative/RuralOpioidInitiative/ROI_base/data_final/Access04_T.csv',\n",
              " 'https://raw.githubusercontent.com/RuralOpioidInitiative/RuralOpioidInitiative/ROI_base/data_final/Access05_T.csv',\n",
              " 'https://raw.githubusercontent.com/RuralOpioidInitiative/RuralOpioidInitiative/ROI_base/data_final/BE01_T.csv',\n",
              " 'https://raw.githubusercontent.com/RuralOpioidInitiative/RuralOpioidInitiative/ROI_base/data_final/BE02_RUCA_T.csv',\n",
              " 'https://raw.githubusercontent.com/RuralOpioidInitiative/RuralOpioidInitiative/ROI_base/data_final/BE03_T.csv',\n",
              " 'https://raw.githubusercontent.com/RuralOpioidInitiative/RuralOpioidInitiative/ROI_base/data_final/DS01_2018_T.csv',\n",
              " 'https://raw.githubusercontent.com/RuralOpioidInitiative/RuralOpioidInitiative/ROI_base/data_final/DS02_2014_T.csv',\n",
              " 'https://raw.githubusercontent.com/RuralOpioidInitiative/RuralOpioidInitiative/ROI_base/data_final/DS03_2018_T.csv',\n",
              " 'https://raw.githubusercontent.com/RuralOpioidInitiative/RuralOpioidInitiative/ROI_base/data_final/EC01_2018_T.csv',\n",
              " 'https://raw.githubusercontent.com/RuralOpioidInitiative/RuralOpioidInitiative/ROI_base/data_final/EC02_2018_T.csv',\n",
              " 'https://raw.githubusercontent.com/RuralOpioidInitiative/RuralOpioidInitiative/ROI_base/data_final/EC03_2018_T.csv',\n",
              " 'https://raw.githubusercontent.com/RuralOpioidInitiative/RuralOpioidInitiative/ROI_base/data_final/EC04_T.csv',\n",
              " 'https://raw.githubusercontent.com/RuralOpioidInitiative/RuralOpioidInitiative/ROI_base/data_final/Health03_T.csv']"
            ]
          },
          "metadata": {},
          "execution_count": 36
        }
      ]
    },
    {
      "cell_type": "markdown",
      "metadata": {
        "id": "ZC6WVJvjV4l-"
      },
      "source": [
        "This is where you decide the variables that you want in your subset. The default set is provided below with the metadata in the ROI page"
      ]
    },
    {
      "cell_type": "code",
      "metadata": {
        "id": "7U8Lx2sMObon"
      },
      "source": [
        "subset_list_counties = [\"Health01_C\", \"Health03_C\", \"Access01_C\", \"DS01_2018_C\", \"DS03_2018_C\", \"EC03_2018_C\", \"BE02_RUCA_C\", \"BE04_C\"]            \n",
        "C_href_subset = [i for i in C_href if any(b in i for b in subset_list_counties)]\n",
        "\n",
        "subset_list_zcta = [\"Health01_Z\", \"Access01_Z\", \"Access02_Z\",\"Access03_Z\",\"Access04_Z\",\"Access05_Z\",\"DS01_2018_Z\", \"EC03_2018_Z\", \"BE02_RUCA_Z\", \"Within_5_Miles\"]            \n",
        "Z_href_subset = [i for i in Z_href if any(b in i for b in subset_list_zcta)]\n",
        "\n",
        "subset_list_centrac = [ \"Health03_T\",\"Access01_T\", \"Access02_T\",\"Access03_T\",\"Access04_T\",\"Access05_T\", \"DS01_2018_T\", \"DS03_2018_T\", \"EC03_2018_T\", \"BE02_RUCA_T\"]            \n",
        "T_href_subset = [i for i in T_href if any(b in i for b in subset_list_centrac)]"
      ],
      "execution_count": null,
      "outputs": []
    },
    {
      "cell_type": "code",
      "metadata": {
        "id": "SMNzZyWgSJk5"
      },
      "source": [
        "C_href_subset\n"
      ],
      "execution_count": null,
      "outputs": []
    },
    {
      "cell_type": "code",
      "metadata": {
        "id": "sL1m-EDqYKTW"
      },
      "source": [
        "Z_href_subset\n"
      ],
      "execution_count": null,
      "outputs": []
    },
    {
      "cell_type": "code",
      "metadata": {
        "id": "m2sl7_CjYKKW"
      },
      "source": [
        "T_href_subset"
      ],
      "execution_count": null,
      "outputs": []
    },
    {
      "cell_type": "markdown",
      "metadata": {
        "id": "TlRL5LgLWRsc"
      },
      "source": [
        "In the code chunks below we call the csv shared in the ROI repository and combine it with the shapefile to create subsets (tabular and shapefile format)"
      ]
    },
    {
      "cell_type": "code",
      "metadata": {
        "id": "ewE20oLQVDnv"
      },
      "source": [
        "C_df = pd.DataFrame(columns=['COUNTYFP']) \n",
        "for x in C_href_subset:\n",
        "  print(x)\n",
        "  read_in = pd.read_csv(x)\n",
        "  read_in = read_in.rename(columns={\"FIPS\": \"COUNTYFP\",\n",
        "                                    \"CountyFIPS\": \"COUNTYFP\",\n",
        "                                    \"fips\": \"COUNTYFP\",\n",
        "                                    \"countyfips\": \"COUNTYFP\"})                             \n",
        "  read_in[[\"COUNTYFP\"]] =read_in[[\"COUNTYFP\"]].astype(str)\n",
        "  read_in.loc[read_in['COUNTYFP'].str.len()<5, 'COUNTYFP'] = \"0\"+read_in['COUNTYFP']\n",
        "  read_in.sort_values(by=['COUNTYFP'])\n",
        "  C_df = C_df.merge(read_in, on=\"COUNTYFP\", how='outer')\n",
        "C_df.head()"
      ],
      "execution_count": null,
      "outputs": []
    },
    {
      "cell_type": "code",
      "metadata": {
        "id": "_b_kAWDg_VNP"
      },
      "source": [
        "shp_file_counties.head()"
      ],
      "execution_count": null,
      "outputs": []
    },
    {
      "cell_type": "code",
      "metadata": {
        "id": "sA16sr8Na749"
      },
      "source": [
        "C_df_merged = shp_file_counties.merge(C_df, how='left', left_on='GEOID', right_on='COUNTYFP', suffixes =('', '_y'))     \n",
        "C_df_merged.drop(C_df_merged.filter(regex='_y$').columns.tolist(),axis=1, inplace=True)\n",
        "C_df_sub = C_df.merge(shp_file_counties, how='right', left_on='COUNTYFP', right_on='GEOID', suffixes=('',\"_y\"))\n",
        "C_df_sub.drop(C_df_sub.filter(regex='_y$').columns.tolist(),axis=1, inplace=True)\n",
        "C_df_sub.info()"
      ],
      "execution_count": null,
      "outputs": []
    },
    {
      "cell_type": "code",
      "metadata": {
        "id": "bNHQfiWPTe84"
      },
      "source": [
        "C_df_sub.head()"
      ],
      "execution_count": null,
      "outputs": []
    },
    {
      "cell_type": "code",
      "metadata": {
        "colab": {
          "base_uri": "https://localhost:8080/"
        },
        "id": "QNcQ7QHvAN2_",
        "outputId": "507855d6-ee56-4ed1-e2f0-40dcc5c8a057"
      },
      "source": [
        "from google.colab import drive\n",
        "drive.mount('/content/drive')\n"
      ],
      "execution_count": null,
      "outputs": [
        {
          "output_type": "stream",
          "name": "stdout",
          "text": [
            "Mounted at /content/drive\n"
          ]
        }
      ]
    },
    {
      "cell_type": "code",
      "metadata": {
        "id": "2XJJhXS3Mvjm"
      },
      "source": [
        "C_df_sub.to_csv('data_c.csv')\n",
        "!cp data_c.csv \"drive/My Drive/\""
      ],
      "execution_count": null,
      "outputs": []
    },
    {
      "cell_type": "code",
      "metadata": {
        "id": "y-x0-19ygkqA"
      },
      "source": [
        "T_df = pd.DataFrame(columns=['GEOID']) \n",
        "for x in T_href_subset:\n",
        "  print(x)\n",
        "  read_in = pd.read_csv(x)\n",
        "  read_in = read_in.rename(columns={\"geoid\": \"GEOID\",\n",
        "                           \"GEOid\": \"GEOID\",\n",
        "                           \"FIPS\": \"GEOID\"})\n",
        "  read_in[['GEOID']] = read_in[['GEOID']].astype(str)\n",
        "  read_in.loc[read_in['GEOID'].str.len()==10, 'GEOID'] = '0' +read_in['GEOID']\n",
        "  read_in.sort_values(by=['GEOID'])\n",
        "  T_df = T_df.merge(read_in, on='GEOID', how='outer', suffixes=('','_y'))\n",
        "  T_df.drop(T_df.filter(regex='_y$').columns.tolist(),axis=1, inplace=True)\n",
        "T_df.head()"
      ],
      "execution_count": null,
      "outputs": []
    },
    {
      "cell_type": "code",
      "metadata": {
        "id": "6ZZQ-srKa04a"
      },
      "source": [
        "T_df_merged = shp_file_ctract.merge(T_df, how='left', left_on='GEOID', right_on='GEOID', suffixes =('', '_y'))     \n",
        "T_df_merged.drop(T_df_merged.filter(regex='_y$').columns.tolist(),axis=1, inplace=True)   \n",
        "T_df_sub = T_df.merge(shp_file_ctract, how='right', left_on='GEOID', right_on='GEOID', suffixes=('',\"_y\"))\n",
        "T_df_sub.drop(T_df_sub.filter(regex='_y$').columns.tolist(),axis=1, inplace=True)\n",
        "T_df_sub.head()"
      ],
      "execution_count": null,
      "outputs": []
    },
    {
      "cell_type": "code",
      "metadata": {
        "id": "Uw40NOJ5bWk8"
      },
      "source": [
        "T_df_sub.to_csv('data_T.csv')\n",
        "!cp data_T.csv \"drive/My Drive/\""
      ],
      "execution_count": null,
      "outputs": []
    },
    {
      "cell_type": "code",
      "metadata": {
        "id": "KTgWe4i6GkDO"
      },
      "source": [
        "Z_df = pd.DataFrame(columns=['ZCTA']) \n",
        "for x in Z_href_subset:\n",
        "  read_in = pd.read_csv(x)\n",
        "  print(x)\n",
        "  read_in = read_in.rename(columns={\"zcta\": \"ZCTA\",\n",
        "                           \"zipcode\": \"ZCTA\",\n",
        "                           \"GEOID\": \"ZCTA\",\n",
        "                           \"ZCTA5CE10\": \"ZCTA\",\n",
        "                           \"zip\": \"ZCTA\"})\n",
        "  read_in[[\"ZCTA\"]] =read_in[[\"ZCTA\"]].astype(str)\n",
        "  read_in.loc[read_in['ZCTA'].str.len()<5, 'ZCTA'] = \"0\"+read_in['ZCTA']\n",
        "  read_in.sort_values(by=['ZCTA'])\n",
        "  Z_df = Z_df.merge(read_in, on=\"ZCTA\", how='outer')\n",
        "Z_df.head()"
      ],
      "execution_count": null,
      "outputs": []
    },
    {
      "cell_type": "code",
      "metadata": {
        "id": "YWKjP24obFiD"
      },
      "source": [
        "Z_df_merged = shp_file_zcta.merge(Z_df, how='left', left_on='ZCTA5CE10', right_on='ZCTA', suffixes =('', '_y'))     \n",
        "Z_df_merged.drop(Z_df_merged.filter(regex='_y$').columns.tolist(),axis=1, inplace=True)   \n",
        "Z_df_sub = Z_df.merge(shp_file_zcta, how='right', left_on='ZCTA', right_on='ZCTA5CE10', suffixes=('',\"_y\"))\n",
        "Z_df_sub.drop(Z_df_sub.filter(regex='_y$').columns.tolist(),axis=1, inplace=True)\n",
        "Z_df_sub.head()"
      ],
      "execution_count": null,
      "outputs": []
    },
    {
      "cell_type": "code",
      "metadata": {
        "id": "NOnd7BZ5c87S"
      },
      "source": [
        "Z_df_sub.to_csv('data_Z.csv')\n",
        "!cp data_Z.csv \"drive/My Drive/\""
      ],
      "execution_count": null,
      "outputs": []
    },
    {
      "cell_type": "markdown",
      "metadata": {
        "id": "yh9veK7iBYO8"
      },
      "source": [
        "NOW THE MAPPING SECTION (This section is incomplete)\n",
        "\n",
        "\n"
      ]
    },
    {
      "cell_type": "markdown",
      "metadata": {
        "id": "RPMrqY7KEUhw"
      },
      "source": [
        "Remember the formatting. Placement of vsicurl and raw before the main."
      ]
    },
    {
      "cell_type": "code",
      "metadata": {
        "id": "-nKkdJjGEbqP",
        "colab": {
          "base_uri": "https://localhost:8080/",
          "height": 204
        },
        "outputId": "0d7fab7b-50c9-4eb7-ace0-eef4d2f72ddc"
      },
      "source": [
        "shp_file_zcta.head()\n"
      ],
      "execution_count": null,
      "outputs": [
        {
          "output_type": "execute_result",
          "data": {
            "text/html": [
              "<div>\n",
              "<style scoped>\n",
              "    .dataframe tbody tr th:only-of-type {\n",
              "        vertical-align: middle;\n",
              "    }\n",
              "\n",
              "    .dataframe tbody tr th {\n",
              "        vertical-align: top;\n",
              "    }\n",
              "\n",
              "    .dataframe thead th {\n",
              "        text-align: right;\n",
              "    }\n",
              "</style>\n",
              "<table border=\"1\" class=\"dataframe\">\n",
              "  <thead>\n",
              "    <tr style=\"text-align: right;\">\n",
              "      <th></th>\n",
              "      <th>ZCTA5CE10</th>\n",
              "      <th>AFFGEOID10</th>\n",
              "      <th>GEOID10</th>\n",
              "      <th>ALAND10</th>\n",
              "      <th>AWATER10</th>\n",
              "      <th>geometry</th>\n",
              "    </tr>\n",
              "  </thead>\n",
              "  <tbody>\n",
              "    <tr>\n",
              "      <th>0</th>\n",
              "      <td>36083</td>\n",
              "      <td>8600000US36083</td>\n",
              "      <td>36083</td>\n",
              "      <td>659750662.0</td>\n",
              "      <td>5522919.0</td>\n",
              "      <td>MULTIPOLYGON (((-85.63225 32.28098, -85.62439 ...</td>\n",
              "    </tr>\n",
              "    <tr>\n",
              "      <th>1</th>\n",
              "      <td>35441</td>\n",
              "      <td>8600000US35441</td>\n",
              "      <td>35441</td>\n",
              "      <td>172850429.0</td>\n",
              "      <td>8749105.0</td>\n",
              "      <td>MULTIPOLYGON (((-87.83287 32.84437, -87.83184 ...</td>\n",
              "    </tr>\n",
              "    <tr>\n",
              "      <th>2</th>\n",
              "      <td>35051</td>\n",
              "      <td>8600000US35051</td>\n",
              "      <td>35051</td>\n",
              "      <td>280236456.0</td>\n",
              "      <td>5427285.0</td>\n",
              "      <td>POLYGON ((-86.74384 33.25002, -86.73802 33.251...</td>\n",
              "    </tr>\n",
              "    <tr>\n",
              "      <th>3</th>\n",
              "      <td>35121</td>\n",
              "      <td>8600000US35121</td>\n",
              "      <td>35121</td>\n",
              "      <td>372736030.0</td>\n",
              "      <td>5349303.0</td>\n",
              "      <td>POLYGON ((-86.58527 33.94743, -86.58033 33.948...</td>\n",
              "    </tr>\n",
              "    <tr>\n",
              "      <th>4</th>\n",
              "      <td>35058</td>\n",
              "      <td>8600000US35058</td>\n",
              "      <td>35058</td>\n",
              "      <td>178039922.0</td>\n",
              "      <td>3109259.0</td>\n",
              "      <td>MULTIPOLYGON (((-86.87884 34.21196, -86.87649 ...</td>\n",
              "    </tr>\n",
              "  </tbody>\n",
              "</table>\n",
              "</div>"
            ],
            "text/plain": [
              "  ZCTA5CE10  ...                                           geometry\n",
              "0     36083  ...  MULTIPOLYGON (((-85.63225 32.28098, -85.62439 ...\n",
              "1     35441  ...  MULTIPOLYGON (((-87.83287 32.84437, -87.83184 ...\n",
              "2     35051  ...  POLYGON ((-86.74384 33.25002, -86.73802 33.251...\n",
              "3     35121  ...  POLYGON ((-86.58527 33.94743, -86.58033 33.948...\n",
              "4     35058  ...  MULTIPOLYGON (((-86.87884 34.21196, -86.87649 ...\n",
              "\n",
              "[5 rows x 6 columns]"
            ]
          },
          "metadata": {},
          "execution_count": 46
        }
      ]
    },
    {
      "cell_type": "code",
      "metadata": {
        "id": "9SmAZA7xFp6K"
      },
      "source": [
        ""
      ],
      "execution_count": null,
      "outputs": []
    },
    {
      "cell_type": "code",
      "metadata": {
        "id": "zNF3bXklfEjy"
      },
      "source": [
        ""
      ],
      "execution_count": null,
      "outputs": []
    },
    {
      "cell_type": "code",
      "metadata": {
        "id": "8ee7f8i_BdiZ"
      },
      "source": [
        ""
      ],
      "execution_count": null,
      "outputs": []
    },
    {
      "cell_type": "code",
      "metadata": {
        "id": "supkZ0ise3Q7"
      },
      "source": [
        "pip install mapclassify"
      ],
      "execution_count": null,
      "outputs": []
    },
    {
      "cell_type": "code",
      "metadata": {
        "id": "ZOlJlJW_rlqB"
      },
      "source": [
        "folium.Choropleth(\n",
        "geo_data=shp_file_ctract,\n",
        "data=T_df_sub,\n",
        "columns=['GEOID','minDisMOUD'],\n",
        "key_on=\"feature.properties.GEOID\",\n",
        "fill_color='YlGnBu',\n",
        "fill_opacity=1,\n",
        "line_opacity=0.2,\n",
        "legend_name=\"Distance\",\n",
        "smooth_factor=0,\n",
        "Highlight= True,\n",
        "line_color = \"#0000\",\n",
        "name = \"Wills\",\n",
        "show=False,\n",
        "overlay=True\n",
        ").add_to(sample_map)\n"
      ],
      "execution_count": null,
      "outputs": []
    },
    {
      "cell_type": "code",
      "metadata": {
        "id": "Lf9TnQPDBo0n"
      },
      "source": [
        "import folium"
      ],
      "execution_count": null,
      "outputs": []
    },
    {
      "cell_type": "code",
      "metadata": {
        "id": "vvDeC6Jls5w-"
      },
      "source": [
        "sample_map"
      ],
      "execution_count": null,
      "outputs": []
    }
  ]
}